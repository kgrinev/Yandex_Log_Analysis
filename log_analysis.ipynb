{
 "cells": [
  {
   "cell_type": "markdown",
   "metadata": {},
   "source": [
    "File log.csv contains history of user's activity.\n",
    "Ich row is one event described as \"time\", \"user id\", \"event type\", \"evennt's paramter\".\n",
    "\n",
    "1. Count total number of user's sessions in 14 April 2020.\n",
    "2. Find a day when number of unique users listening music is highest.\n",
    "3. Find 15 minutes interval when number of user's events is highest."
   ]
  },
  {
   "cell_type": "code",
   "execution_count": 1,
   "metadata": {},
   "outputs": [],
   "source": [
    "import pandas as pd\n",
    "from datetime import timedelta\n",
    "from datetime import datetime\n",
    "import seaborn as sns"
   ]
  },
  {
   "cell_type": "code",
   "execution_count": 2,
   "metadata": {},
   "outputs": [],
   "source": [
    "def count_sessions(log):\n",
    "    last_event_time = log.iloc[0]\n",
    "    sessions = 1\n",
    "    for event in log[1:]:\n",
    "        delta = (event - last_event_time).total_seconds() / 60\n",
    "        if delta > 30:\n",
    "            sessions += 1\n",
    "        last_event_time = event\n",
    "    return sessions\n",
    "\n",
    "def count_all_sessions():\n",
    "    data = pd.read_csv(\"log.csv\")\n",
    "    data[\"date\"] = data[\"date\"].str.replace(\"_\", \" \")\n",
    "    data[\"date\"] = pd.to_datetime(data[\"date\"])\n",
    "    users_activity = {}\n",
    "\n",
    "    start = pd.to_datetime(\"2020-04-14 00:00:00\")\n",
    "    stop = pd.to_datetime(\"2020-04-15 00:00:00\")\n",
    "    data_1 = data[(data[\"date\"] >= start) & (data[\"date\"] < stop)]\n",
    "\n",
    "    for user in data_1[\"user\"].values:\n",
    "        users_activity[user] = count_sessions(data_1[data_1[\"user\"] == user][\"date\"])\n",
    "\n",
    "    activity = pd.DataFrame().from_dict(users_activity, orient=\"index\", columns=[\"sessions\"])\n",
    "    return activity.sessions.sum()\n",
    "\n",
    "def find_music_day():\n",
    "    data = pd.read_csv(\"log.csv\")\n",
    "    data[\"date\"] = data[\"date\"].str.replace(\"_\", \" \")\n",
    "    data[\"date\"] = pd.to_datetime(data[\"date\"])\n",
    "    data_2 = data[(data[\"parameter\"] == 'music') & (data[\"event_type\"] == 1)]\n",
    "    \n",
    "    users_per_day = {}\n",
    "    for day in range(1, 31):\n",
    "        start = pd.to_datetime(f\"2020-04-{day} 00:00:00\")\n",
    "        stop = pd.to_datetime(f\"2020-04-{day} 23:59:59\")\n",
    "        users_per_day[f\"2020-04-{day}\"] = len(data_2[(data_2[\"date\"] >= start) & (data_2[\"date\"] <= stop)].user.unique())\n",
    "    \n",
    "    return [max(users_per_day, key=users_per_day.get), users_per_day[max(users_per_day, key=users_per_day.get)]]\n",
    "\n",
    "def find_interval():\n",
    "    data = pd.read_csv(\"log.csv\")\n",
    "    data[\"date\"] = data[\"date\"].str.replace(\"_\", \" \")\n",
    "    data[\"date\"] = pd.to_datetime(data[\"date\"])\n",
    "\n",
    "    start = pd.to_datetime(\"2020-04-01 00:00:00\")\n",
    "    stop = pd.to_datetime(\"2020-04-30 23:59:59\")\n",
    "    max_events = 0\n",
    "    max_time = 0\n",
    "    time = start\n",
    "    while (time + timedelta(minutes=15)) <= stop:\n",
    "        current = len(data[(data[\"date\"] >= time) & (data[\"date\"] <= time + timedelta(minutes=15))])\n",
    "        if current > max_events:\n",
    "            max_events = current\n",
    "            max_time = time\n",
    "        time = time + timedelta(seconds=1)\n",
    "    return [max_time, max_events]"
   ]
  },
  {
   "cell_type": "code",
   "execution_count": 3,
   "metadata": {},
   "outputs": [
    {
     "data": {
      "text/plain": [
       "4103"
      ]
     },
     "execution_count": 3,
     "metadata": {},
     "output_type": "execute_result"
    }
   ],
   "source": [
    "count_all_sessions()"
   ]
  },
  {
   "cell_type": "code",
   "execution_count": 4,
   "metadata": {},
   "outputs": [
    {
     "data": {
      "text/plain": [
       "['2020-04-22', 378]"
      ]
     },
     "execution_count": 4,
     "metadata": {},
     "output_type": "execute_result"
    }
   ],
   "source": [
    "find_music_day()"
   ]
  },
  {
   "cell_type": "code",
   "execution_count": 5,
   "metadata": {},
   "outputs": [
    {
     "data": {
      "text/plain": [
       "[Timestamp('2020-04-07 12:34:16'), 179]"
      ]
     },
     "execution_count": 5,
     "metadata": {},
     "output_type": "execute_result"
    }
   ],
   "source": [
    "find_interval()"
   ]
  },
  {
   "cell_type": "code",
   "execution_count": null,
   "metadata": {},
   "outputs": [],
   "source": []
  },
  {
   "cell_type": "code",
   "execution_count": null,
   "metadata": {},
   "outputs": [],
   "source": []
  },
  {
   "cell_type": "code",
   "execution_count": null,
   "metadata": {},
   "outputs": [],
   "source": []
  },
  {
   "cell_type": "code",
   "execution_count": null,
   "metadata": {},
   "outputs": [],
   "source": []
  }
 ],
 "metadata": {
  "kernelspec": {
   "display_name": "Python 3",
   "language": "python",
   "name": "python3"
  },
  "language_info": {
   "codemirror_mode": {
    "name": "ipython",
    "version": 3
   },
   "file_extension": ".py",
   "mimetype": "text/x-python",
   "name": "python",
   "nbconvert_exporter": "python",
   "pygments_lexer": "ipython3",
   "version": "3.8.3"
  }
 },
 "nbformat": 4,
 "nbformat_minor": 4
}
